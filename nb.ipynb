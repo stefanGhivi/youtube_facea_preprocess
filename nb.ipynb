{
 "cells": [
  {
   "cell_type": "code",
   "execution_count": null,
   "metadata": {
    "collapsed": true,
    "pycharm": {
     "name": "#%%\n"
    }
   },
   "outputs": [],
   "source": [
    "import os\n",
    "import numpy as np\n",
    "import cv2\n",
    "from sklearn import cluster\n",
    "from sklearn.model_selection import StratifiedKFold"
   ]
  },
  {
   "cell_type": "markdown",
   "source": [
    "Create the new directories if they don't exist\n"
   ],
   "metadata": {
    "collapsed": false
   }
  },
  {
   "cell_type": "code",
   "execution_count": null,
   "outputs": [],
   "source": [
    "def create_dirs(save_path, subdirs):\n",
    "    for subdir in subdirs:\n",
    "        dir_path = os.path.join(save_path, subdir)\n",
    "        if not os.path.exists(dir_path):\n",
    "            os.makedirs(dir_path)"
   ],
   "metadata": {
    "collapsed": false,
    "pycharm": {
     "name": "#%%\n"
    }
   }
  },
  {
   "cell_type": "markdown",
   "source": [
    "BBoxes and keypoints resize function\n",
    "\n"
   ],
   "metadata": {
    "collapsed": false
   }
  },
  {
   "cell_type": "code",
   "execution_count": null,
   "outputs": [],
   "source": [
    "def resize_2d_coords(old_width, old_height, new_width, new_height, points):\n",
    "    x_factor = new_width / old_width\n",
    "    y_factor = new_height / old_height\n",
    "    scaling_matrix = np.array([[x_factor, 0, 0], # sx  0   0\n",
    "                               [0, y_factor, 0], # 0   sy  0\n",
    "                               [0, 0, 1]])       # 0   0   1\n",
    "\n",
    "    points_matrix = points.transpose()\n",
    "    points_matrix = np.vstack((points_matrix, np.ones(len(points)))) # [x_coords,\n",
    "                                                                     #  y_coords,\n",
    "                                                                     #  1]\n",
    "\n",
    "    scaled_points = scaling_matrix @ points_matrix\n",
    "    scaled_points = np.delete(scaled_points, obj=2, axis=0)\n",
    "    scaled_points = scaled_points.transpose()\n",
    "\n",
    "    return scaled_points\n"
   ],
   "metadata": {
    "collapsed": false,
    "pycharm": {
     "name": "#%%\n"
    }
   }
  },
  {
   "cell_type": "code",
   "execution_count": null,
   "outputs": [],
   "source": [
    "def draw(img, bbox, kps):\n",
    "    cv2.rectangle(img, tuple(bbox[0].astype(int)), tuple(bbox[3].astype(int)), (0,0,255), 1)\n",
    "    for pt in kps:\n",
    "        cv2.circle(img, tuple(pt.astype(int)), 1, (255,0,0), 1)\n"
   ],
   "metadata": {
    "collapsed": false,
    "pycharm": {
     "name": "#%%\n"
    }
   }
  },
  {
   "cell_type": "code",
   "execution_count": null,
   "outputs": [],
   "source": [
    "def task_1(original_path, save_path):\n",
    "    create_dirs(save_path, ['images', 'bounding_boxes', 'landmarks2D'])\n",
    "    batches = next(os.walk(original_path))[1]\n",
    "    for batch in batches:\n",
    "        batch_path = os.path.join(original_path, batch)\n",
    "        samples = os.listdir(batch_path)\n",
    "        for sample in samples:\n",
    "            sample_path = os.path.join(batch_path, sample)\n",
    "            sample_data = np.load(sample_path)\n",
    "            imgs = sample_data['colorImages']\n",
    "            bboxes = sample_data['boundingBox']\n",
    "            lm2d = sample_data['landmarks2D']\n",
    "            lm2d = np.moveaxis(lm2d, -1, 0)\n",
    "            bboxes = np.moveaxis(bboxes, -1, 0)\n",
    "            imgs = np.moveaxis(imgs, -1, 0)\n",
    "\n",
    "            assert(len(imgs) == len(bboxes) == len(lm2d))\n",
    "            for index in range(len(imgs)):\n",
    "                img = imgs[index]\n",
    "                img = img[..., ::-1]  #rgb2bgr\n",
    "                cv2.imwrite(os.path.join(save_path, 'images', sample + str(index) + '.png'), img)\n",
    "\n",
    "                bbox = bboxes[index]\n",
    "                np.save(os.path.join(save_path, 'bounding_boxes', sample + str(index) + '.npy'), bbox)\n",
    "\n",
    "                keypoints2d = lm2d[index]\n",
    "                np.save(os.path.join(save_path, 'landmarks2D', sample + str(index) + '.npy'), keypoints2d)"
   ],
   "metadata": {
    "collapsed": false,
    "pycharm": {
     "name": "#%%\n"
    }
   }
  },
  {
   "cell_type": "code",
   "execution_count": null,
   "outputs": [],
   "source": [
    "def task_2(original_path, save_path, new_width, new_height):\n",
    "\n",
    "    create_dirs(save_path, ['images', 'bounding_boxes', 'landmarks2D'])\n",
    "    images_path = os.path.join(original_path, 'images')\n",
    "    images = os.scandir(images_path)\n",
    "    bboxes_path = os.path.join(original_path, 'bounding_boxes')\n",
    "    lms_path = os.path.join(original_path, 'landmarks2D')\n",
    "    for image in images:\n",
    "        img = cv2.imread(os.path.join(images_path, image.name))\n",
    "        old_width = img.shape[1]\n",
    "        old_height = img.shape[0]\n",
    "        new_dim = (new_width, new_height)\n",
    "        resized = cv2.resize(img, new_dim, interpolation=cv2.INTER_AREA)\n",
    "\n",
    "        old_bbox = np.load(os.path.join(bboxes_path, image.name.replace('.png', '.npy')))\n",
    "        new_bbox = resize_2d_coords(old_width, old_height, new_width, new_height, old_bbox)\n",
    "\n",
    "        old_keypoints = np.load(os.path.join(lms_path, image.name.replace('.png', '.npy')))\n",
    "        new_keypoints = resize_2d_coords(old_width, old_height, new_width, new_height, old_keypoints)\n",
    "\n",
    "        draw(resized, new_bbox, new_keypoints)\n",
    "        cv2.imwrite(os.path.join(save_path, 'images', image.name), resized)\n",
    "        np.save(os.path.join(save_path, 'bounding_boxes', image.name.replace('.png', '.npy')), new_bbox)\n",
    "        np.save(os.path.join(save_path, 'landmarks2D', image.name.replace('.png', '.npy')), new_keypoints)"
   ],
   "metadata": {
    "collapsed": false,
    "pycharm": {
     "name": "#%%\n"
    }
   }
  },
  {
   "cell_type": "code",
   "execution_count": null,
   "outputs": [],
   "source": [
    "def task_3(original_path):\n",
    "    lm2d_path = os.path.join(original_path, 'landmarks2D')\n",
    "    landmarks = os.scandir(lm2d_path)\n",
    "    all_kps = None\n",
    "    names = []\n",
    "    for lm in landmarks:\n",
    "        names.append(lm.name.replace('.npy', ''))\n",
    "        keypoints = np.load(os.path.join(lm2d_path, lm.name))\n",
    "        keypoints = np.expand_dims(keypoints, axis=2)\n",
    "        if all_kps is None:\n",
    "            all_kps = keypoints\n",
    "        else:\n",
    "            all_kps = np.concatenate((all_kps, keypoints), axis=2)\n",
    "\n",
    "    kps_centered = all_kps - np.tile(all_kps.mean(axis=0), [68, 1, 1])\n",
    "\n",
    "    kps_normlized = kps_centered / np.tile(\n",
    "        np.sqrt((kps_centered ** 2).sum(axis=1)).mean(axis=0), [68, 2, 1])\n",
    "\n",
    "    numClusters = 16\n",
    "    normalizedShapesTable = np.reshape(kps_normlized, [68 * 2, kps_normlized.shape[2]]).T\n",
    "\n",
    "    shapesModel = cluster.KMeans(n_clusters=numClusters, n_init=5, random_state=1).fit(normalizedShapesTable[::2, :])\n",
    "    clusterAssignment = shapesModel.predict(normalizedShapesTable)\n",
    "\n",
    "    skf = StratifiedKFold(n_splits=10)\n",
    "    folds = skf.split(names, clusterAssignment)\n",
    "    return folds"
   ],
   "metadata": {
    "collapsed": false,
    "pycharm": {
     "name": "#%%\n"
    }
   }
  },
  {
   "cell_type": "markdown",
   "source": [
    "task_3 returns a sklearn stratifiedKfold generator.\n",
    "\n",
    "All landmarks (centered + standardized) from all images have been clustered in different poses.\n",
    "Each sample got classified with a pose. The folds take into account the pose assigned to each image.\n",
    "\n",
    "See https://www.kaggle.com/selfishgene/exploring-youtube-faces-with-keypoints-dataset for details"
   ],
   "metadata": {
    "collapsed": false
   }
  },
  {
   "cell_type": "code",
   "execution_count": null,
   "outputs": [],
   "source": [
    "original_dataset_path = '/home/ghivi/yt_dataset'\n",
    "raw_dataset_path = '/home/ghivi/Raw'\n",
    "processed_dataset_path = '/home/ghivi/Processed'\n",
    "\n",
    "task_1(original_dataset_path, raw_dataset_path)\n",
    "task_2(raw_dataset_path, processed_dataset_path, 200, 200)\n",
    "folds = task_3(raw_dataset_path)\n"
   ],
   "metadata": {
    "collapsed": false,
    "pycharm": {
     "name": "#%%\n"
    }
   }
  }
 ],
 "metadata": {
  "language_info": {
   "codemirror_mode": {
    "name": "ipython",
    "version": 2
   },
   "file_extension": ".py",
   "mimetype": "text/x-python",
   "name": "python",
   "nbconvert_exporter": "python",
   "pygments_lexer": "ipython2",
   "version": "2.7.6"
  },
  "kernelspec": {
   "name": "python3",
   "language": "python",
   "display_name": "Python 3"
  },
  "pycharm": {
   "stem_cell": {
    "cell_type": "raw",
    "source": [],
    "metadata": {
     "collapsed": false
    }
   }
  }
 },
 "nbformat": 4,
 "nbformat_minor": 0
}